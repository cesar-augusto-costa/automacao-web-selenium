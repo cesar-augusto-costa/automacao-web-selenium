{
 "cells": [
  {
   "cell_type": "code",
   "execution_count": 15,
   "id": "84368584",
   "metadata": {},
   "outputs": [],
   "source": [
    "from selenium import webdriver\n",
    "from webdriver_manager.chrome import ChromeDriverManager\n",
    "from selenium.webdriver.chrome.service import Service\n",
    "\n",
    "servico = Service(ChromeDriverManager().install())\n",
    "\n",
    "navegador = webdriver.Chrome(service=servico)\n",
    "\n",
    "navegador.get(\"https://pages.hashtagtreinamentos.com/inscricao-minicurso-python-automacao-org?origemurl=hashtag_yt_org_minipython_8AMNaVt0z_M\")\n",
    "\n",
    "navegador.find_element(\n",
    "    'xpath',\n",
    "    '//*[@id=\"section-10356508\"]/section/div[2]/div/div[2]/form/div[1]/div/div[1]/div/input'\n",
    ").send_keys(\"Cesar Costa\")\n",
    "navegador.find_element(\n",
    "    'xpath',\n",
    "    '//*[@id=\"section-10356508\"]/section/div[2]/div/div[2]/form/div[1]/div/div[2]/div/input'\n",
    ").send_keys(\"cesar.costa.cac.1993@gmail.com\")\n",
    "navegador.find_element(\n",
    "    'xpath',\n",
    "    '//*[@id=\"section-10356508\"]/section/div[2]/div/div[2]/form/div[1]/div/div[3]/div/input'\n",
    ").send_keys(\"1991911666\")\n",
    "navegador.find_element(\n",
    "    'xpath',\n",
    "    '//*[@id=\"section-10356508\"]/section/div[2]/div/div[2]/form/button'\n",
    ").click()"
   ]
  },
  {
   "cell_type": "code",
   "execution_count": 13,
   "id": "60556037",
   "metadata": {},
   "outputs": [],
   "source": []
  },
  {
   "cell_type": "code",
   "execution_count": 14,
   "id": "b8f6dec3",
   "metadata": {},
   "outputs": [],
   "source": []
  },
  {
   "cell_type": "code",
   "execution_count": null,
   "id": "b73ea018",
   "metadata": {},
   "outputs": [],
   "source": []
  }
 ],
 "metadata": {
  "kernelspec": {
   "display_name": "Python 3 (ipykernel)",
   "language": "python",
   "name": "python3"
  },
  "language_info": {
   "codemirror_mode": {
    "name": "ipython",
    "version": 3
   },
   "file_extension": ".py",
   "mimetype": "text/x-python",
   "name": "python",
   "nbconvert_exporter": "python",
   "pygments_lexer": "ipython3",
   "version": "3.10.9"
  }
 },
 "nbformat": 4,
 "nbformat_minor": 5
}
